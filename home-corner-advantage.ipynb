{
  "nbformat": 4,
  "nbformat_minor": 0,
  "metadata": {
    "colab": {
      "provenance": [],
      "authorship_tag": "ABX9TyPq9RuxlHS28WzVApsbdL+g",
      "include_colab_link": true
    },
    "kernelspec": {
      "name": "python3",
      "display_name": "Python 3"
    },
    "language_info": {
      "name": "python"
    }
  },
  "cells": [
    {
      "cell_type": "markdown",
      "metadata": {
        "id": "view-in-github",
        "colab_type": "text"
      },
      "source": [
        "<a href=\"https://colab.research.google.com/github/LsavageSport/LsavageSport/blob/main/home-corner-advantage.ipynb\" target=\"_parent\"><img src=\"https://colab.research.google.com/assets/colab-badge.svg\" alt=\"Open In Colab\"/></a>"
      ]
    },
    {
      "cell_type": "code",
      "execution_count": 1,
      "metadata": {
        "id": "ekV-PZlfe9Kw"
      },
      "outputs": [],
      "source": [
        "mkdir -p data figs\n",
        "pip install -q pandas numpy scipy matplotlib"
      ]
    },
    {
      "cell_type": "code",
      "source": [
        "curl -L -o data/E0.csv https://www.football-data.co.uk/mmz4281/2324/E0.csv"
      ],
      "metadata": {
        "colab": {
          "base_uri": "https://localhost:8080/"
        },
        "id": "4PuCl8CvgSH0",
        "outputId": "d67dd1a1-a0c9-42cc-d179-707ef734c67a"
      },
      "execution_count": 2,
      "outputs": [
        {
          "output_type": "stream",
          "name": "stdout",
          "text": [
            "  % Total    % Received % Xferd  Average Speed   Time    Time     Time  Current\n",
            "                                 Dload  Upload   Total   Spent    Left  Speed\n",
            "100  168k  100  168k    0     0   125k      0  0:00:01  0:00:01 --:--:--  125k\n"
          ]
        }
      ]
    },
    {
      "cell_type": "code",
      "source": [
        "import pandas as pd, numpy as np, scipy.stats as ss, matplotlib.pyplot as plt"
      ],
      "metadata": {
        "id": "s-ObEkxmgWYo"
      },
      "execution_count": 3,
      "outputs": []
    },
    {
      "cell_type": "code",
      "source": [
        "df = pd.read_csv('data/E0.csv', usecols=['HC','AC']).dropna()\n",
        "\n",
        "home_mean = df.HC.mean()\n",
        "away_mean = df.AC.mean()\n",
        "\n",
        "t, p = ss.ttest_ind(df.HC, df.AC, equal_var=False)\n",
        "\n",
        "d  = (home_mean - away_mean) / np.sqrt(((df.HC.var(ddof=1)+df.AC.var(ddof=1))/2))\n",
        "\n",
        "print(f'Home μ = {home_mean:.2f} | Away μ = {away_mean:.2f}')\n",
        "print(f'Welch t = {t:.2f}  |  p = {p:.3g}')\n",
        "print(f'Cohen d = {d:.2f}')"
      ],
      "metadata": {
        "colab": {
          "base_uri": "https://localhost:8080/"
        },
        "id": "vxFJjhPtgcII",
        "outputId": "e871933f-4cbc-4c17-96e8-9b3afa59da5b"
      },
      "execution_count": 4,
      "outputs": [
        {
          "output_type": "stream",
          "name": "stdout",
          "text": [
            "Home μ = 6.12 | Away μ = 4.71\n",
            "Welch t = 6.34  |  p = 4.03e-10\n",
            "Cohen d = 0.46\n"
          ]
        }
      ]
    },
    {
      "cell_type": "code",
      "source": [
        "plt.figure(figsize=(4,6))\n",
        "plt.bar(['Home','Away'], [home_mean, away_mean],\n",
        "        yerr=[df.HC.sem(), df.AC.sem()], capsize=5)\n",
        "plt.ylabel('Average corners per match')\n",
        "plt.title('Premier League 2023/24')\n",
        "plt.tight_layout()\n",
        "plt.savefig('figs/home_vs_away_corners.png', dpi=300)\n",
        "plt.show()"
      ],
      "metadata": {
        "colab": {
          "base_uri": "https://localhost:8080/",
          "height": 607
        },
        "id": "36X6d-wLgi8S",
        "outputId": "8260c823-502a-4b89-936b-c6948481e3e4"
      },
      "execution_count": 5,
      "outputs": [
        {
          "output_type": "display_data",
          "data": {
            "text/plain": [
              "<Figure size 400x600 with 1 Axes>"
            ],
            "image/png": "[encoded data removed]"
          },
          "metadata": {}
        }
      ]
    }
  ]
}
